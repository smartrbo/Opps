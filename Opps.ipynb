{
 "cells": [
  {
   "cell_type": "code",
   "execution_count": 2,
   "id": "60aab41d-5732-441a-9dae-2d258fc58309",
   "metadata": {},
   "outputs": [],
   "source": [
    "# Problem 1: Bank Account Create a class representing a bank account with attributes like account number, account holder name, and balance. Implement methods to deposit and withdraw money from the account.\n",
    "\n",
    "class bank_account:\n",
    "    \n",
    "    def __init__(self,account_num,account_holder_name,balance=0):\n",
    "        self.account_number=account_num\n",
    "        self.account_holder_name=account_holder_name\n",
    "        self.balance=balance\n",
    "    def Deposit_money(self,amount):\n",
    "        if amount>0:\n",
    "            self.balance=+amount\n",
    "            print('Amount deposite succesful',self.balance)\n",
    "        else:\n",
    "            print('invalid amount to deposite')\n",
    "          \n",
    "    def Withdraw_money(self,amount):\n",
    "        if amount<=self.balance:\n",
    "            self.balance-=amount\n",
    "            print('Withdraw suucesfull')\n",
    "        else:\n",
    "            print('You not have suffecient balance to withdraw')\n",
    "    def balance(self):\n",
    "        print('current balab=nce'.self.balance)   "
   ]
  },
  {
   "cell_type": "code",
   "execution_count": 3,
   "id": "ad382cb6-8109-4eeb-a89f-5fe86c582c27",
   "metadata": {},
   "outputs": [],
   "source": [
    "obj_bank=bank_account(12,'kunal')"
   ]
  },
  {
   "cell_type": "code",
   "execution_count": 4,
   "id": "afa3d661-9167-4f7e-8c8e-cfd25a4aa641",
   "metadata": {},
   "outputs": [
    {
     "name": "stdout",
     "output_type": "stream",
     "text": [
      "Amount deposite succesful 1000\n"
     ]
    }
   ],
   "source": [
    "obj_bank.Deposit_money(1000)"
   ]
  },
  {
   "cell_type": "code",
   "execution_count": 5,
   "id": "668fd1e4-730e-40bf-82e8-8b012610e087",
   "metadata": {},
   "outputs": [
    {
     "name": "stdout",
     "output_type": "stream",
     "text": [
      "You not have suffecient balance to withdraw\n"
     ]
    }
   ],
   "source": [
    "obj_bank.Withdraw_money(1200)"
   ]
  },
  {
   "cell_type": "code",
   "execution_count": 6,
   "id": "4fddbcf7-1890-4f11-b47e-1fd6e5762526",
   "metadata": {},
   "outputs": [
    {
     "name": "stdout",
     "output_type": "stream",
     "text": [
      "Withdraw suucesfull\n"
     ]
    }
   ],
   "source": [
    "obj_bank.Withdraw_money(100)"
   ]
  },
  {
   "cell_type": "code",
   "execution_count": 7,
   "id": "ea32fd24-dfdf-4de9-b748-f692ef0b2c2c",
   "metadata": {},
   "outputs": [
    {
     "data": {
      "text/plain": [
       "900"
      ]
     },
     "execution_count": 7,
     "metadata": {},
     "output_type": "execute_result"
    }
   ],
   "source": [
    "obj_bank.balance"
   ]
  },
  {
   "cell_type": "code",
   "execution_count": 9,
   "id": "e8ab688a-bfea-4e49-8307-f8485beb160c",
   "metadata": {},
   "outputs": [],
   "source": [
    "# Problem 2: Employee Management Create a class representing an employee with attributes like employee ID, name, and salary. Implement methods to calculate the yearly bonus and display employee details.\n",
    "class Employee_Management:\n",
    "    def __init__(self,employee_ID,name,salary ):\n",
    "        self.employee_id=employee_ID\n",
    "        self.name=name\n",
    "        self.salary=salary\n",
    "    def Bonous(self,bonous_percentage):\n",
    "        bonous=(bonous_percentage/100)*self.salary\n",
    "        print('your bonous is',bonous)\n",
    "    def employee_details(self):\n",
    "        print('Employee_id',self.employee_id)\n",
    "        print('Employee Name',self.name)\n",
    "        print('Employee Salary',self.salary)"
   ]
  },
  {
   "cell_type": "code",
   "execution_count": 10,
   "id": "3beace28-c568-43d0-ade2-412498bbff27",
   "metadata": {},
   "outputs": [],
   "source": [
    "obj_emp=Employee_Management(123,'Kunal',25000)"
   ]
  },
  {
   "cell_type": "code",
   "execution_count": 11,
   "id": "4c7ebc3d-0a04-4cdb-a14f-289739650a12",
   "metadata": {},
   "outputs": [
    {
     "name": "stdout",
     "output_type": "stream",
     "text": [
      "Employee_id 123\n",
      "Employee Name Kunal\n",
      "Employee Salary 25000\n"
     ]
    }
   ],
   "source": [
    "obj_emp.employee_details()"
   ]
  },
  {
   "cell_type": "code",
   "execution_count": 12,
   "id": "047839ff-0fc1-41c7-a529-7a3924d57724",
   "metadata": {},
   "outputs": [
    {
     "name": "stdout",
     "output_type": "stream",
     "text": [
      "your bonous is 2500.0\n"
     ]
    }
   ],
   "source": [
    "obj_emp.Bonous(10)"
   ]
  },
  {
   "cell_type": "code",
   "execution_count": 13,
   "id": "38e05f0f-0666-4ba0-814d-4d566085ca86",
   "metadata": {},
   "outputs": [],
   "source": [
    "# Problem 3: Vehicle Rental Create a class representing a vehicle rental system. Implement methods to rent a vehicle, return a vehicle, and display available vehicles.\n",
    "class vehicle_rental:\n",
    "    def __init__(self,vechical=10):\n",
    "        self.available_vechical=vechical\n",
    "    def Rent_vec(self):\n",
    "        name=input('enter your name')\n",
    "        self.available_vechical-=1\n",
    "        print('vechical rent Succesfull')\n",
    "    def Return(self):\n",
    "        name=input('enter your name')\n",
    "        self.available_vechical+=1\n",
    "        print('Vechical return succesful')\n",
    "    def Available_vechical(self):\n",
    "        print('avilable_vechical',self.available_vechical)"
   ]
  },
  {
   "cell_type": "code",
   "execution_count": 14,
   "id": "f7359656-768a-4347-88b3-db7da13aa3af",
   "metadata": {},
   "outputs": [],
   "source": [
    "obj_vec=vehicle_rental()"
   ]
  },
  {
   "cell_type": "code",
   "execution_count": 15,
   "id": "2609e5cc-f675-40ea-8d47-58421e33a70d",
   "metadata": {},
   "outputs": [
    {
     "name": "stdin",
     "output_type": "stream",
     "text": [
      "enter your name kunal\n"
     ]
    },
    {
     "name": "stdout",
     "output_type": "stream",
     "text": [
      "vechical rent Succesfull\n"
     ]
    }
   ],
   "source": [
    "obj_vec.Rent_vec()"
   ]
  },
  {
   "cell_type": "code",
   "execution_count": 16,
   "id": "b8e7e58f-9694-4080-a30e-755d2ea25a26",
   "metadata": {},
   "outputs": [
    {
     "name": "stdin",
     "output_type": "stream",
     "text": [
      "enter your name yukti\n"
     ]
    },
    {
     "name": "stdout",
     "output_type": "stream",
     "text": [
      "vechical rent Succesfull\n"
     ]
    }
   ],
   "source": [
    "obj_vec.Rent_vec()"
   ]
  },
  {
   "cell_type": "code",
   "execution_count": 17,
   "id": "b3cfa05a-a326-4764-b364-58bfb29f23b7",
   "metadata": {},
   "outputs": [
    {
     "name": "stdout",
     "output_type": "stream",
     "text": [
      "avilable_vechical 8\n"
     ]
    }
   ],
   "source": [
    "obj_vec.Available_vechical()"
   ]
  },
  {
   "cell_type": "code",
   "execution_count": 18,
   "id": "e2edf401-ade5-4068-a1cf-e8afc0dac2c8",
   "metadata": {},
   "outputs": [
    {
     "name": "stdin",
     "output_type": "stream",
     "text": [
      "enter your name yukti\n"
     ]
    },
    {
     "name": "stdout",
     "output_type": "stream",
     "text": [
      "Vechical return succesful\n"
     ]
    }
   ],
   "source": [
    "obj_vec.Return()"
   ]
  },
  {
   "cell_type": "code",
   "execution_count": 19,
   "id": "c4d5698e-23ad-47d7-a6e1-a9329a749fdd",
   "metadata": {},
   "outputs": [
    {
     "name": "stdout",
     "output_type": "stream",
     "text": [
      "avilable_vechical 9\n"
     ]
    }
   ],
   "source": [
    "obj_vec.Available_vechical()"
   ]
  },
  {
   "cell_type": "code",
   "execution_count": 26,
   "id": "9e78ad36-0ff1-416d-b4ce-7e0059b6d41f",
   "metadata": {},
   "outputs": [],
   "source": [
    "# Problem 4: Library Catalog Create classes representing a library and a book. Implement methods to add books to the library, borrow books, and display available books.\n",
    "class library:\n",
    "    def __init__(self,book):\n",
    "        self.book=book\n",
    "    def add_book(self,add_book):\n",
    "        name=input('Enter a book name to add')\n",
    "        self.book+=add_book\n",
    "        print('Book add succesfull')\n",
    "    def borrow_book(self,borrow):\n",
    "        name=input('enter a book name to borrow')\n",
    "        self.book-=borrow\n",
    "        print('Book borrow succesfull')\n",
    "    def availble_book(self):\n",
    "        print('Avilable book in library',self.book)"
   ]
  },
  {
   "cell_type": "code",
   "execution_count": 27,
   "id": "2d142fd6-4c79-4c27-bbeb-5c0c01cbcba3",
   "metadata": {},
   "outputs": [],
   "source": [
    "obj_book=library(100)"
   ]
  },
  {
   "cell_type": "code",
   "execution_count": 28,
   "id": "bd6ee448-185f-44ea-8bf7-37b36e3849f4",
   "metadata": {},
   "outputs": [
    {
     "name": "stdin",
     "output_type": "stream",
     "text": [
      "Enter a book name to add Newton\n"
     ]
    },
    {
     "name": "stdout",
     "output_type": "stream",
     "text": [
      "Book add succesfull\n"
     ]
    }
   ],
   "source": [
    "obj_book.add_book(1)"
   ]
  },
  {
   "cell_type": "code",
   "execution_count": 29,
   "id": "994da68a-ebe6-4d88-93d4-6947a33992a3",
   "metadata": {},
   "outputs": [
    {
     "name": "stdout",
     "output_type": "stream",
     "text": [
      "Avilable book in library 101\n"
     ]
    }
   ],
   "source": [
    "obj_book.availble_book()"
   ]
  },
  {
   "cell_type": "code",
   "execution_count": 30,
   "id": "59e7c391-186c-4c70-929d-c3793eeb1d0a",
   "metadata": {},
   "outputs": [
    {
     "name": "stdin",
     "output_type": "stream",
     "text": [
      "enter a book name to borrow Ruthrford\n"
     ]
    },
    {
     "name": "stdout",
     "output_type": "stream",
     "text": [
      "Book borrow succesfull\n"
     ]
    }
   ],
   "source": [
    "obj_book.borrow_book(2)"
   ]
  },
  {
   "cell_type": "code",
   "execution_count": 31,
   "id": "74b13160-aa67-4bf3-b2c9-262fbf1196ba",
   "metadata": {},
   "outputs": [
    {
     "name": "stdout",
     "output_type": "stream",
     "text": [
      "Avilable book in library 99\n"
     ]
    }
   ],
   "source": [
    "obj_book.availble_book()"
   ]
  },
  {
   "cell_type": "code",
   "execution_count": 77,
   "id": "a2e3ad11-1594-472a-9c0a-87d7f8abf07d",
   "metadata": {},
   "outputs": [],
   "source": [
    "# Problem 5: Product Inventory Create classes representing a product and an inventory system. Implement methods to add products to the inventory, update product quantity, and display available products.\n",
    "class Product_inventory:\n",
    "    def __init__(self,inventory):\n",
    "        self.inventory=inventory\n",
    "    def product_to_inventory(self,product):\n",
    "        self.inventory+=  product\n",
    "        print(product,'\\nproduct add to our inventory')\n",
    "    def update_product_quality(self):\n",
    "        print('product quality updated')\n",
    "    def display_product(self):\n",
    "        print('the product in a inventory are\\n', self.inventory)\n",
    "    "
   ]
  },
  {
   "cell_type": "code",
   "execution_count": 98,
   "id": "37840831-a157-40c5-b3ce-a4fa50504ccd",
   "metadata": {},
   "outputs": [],
   "source": [
    "obj_cla=Product_inventory('chocalte')"
   ]
  },
  {
   "cell_type": "code",
   "execution_count": 99,
   "id": "306de4f1-da88-4ed4-8f1a-23c97d498d5a",
   "metadata": {},
   "outputs": [
    {
     "name": "stdout",
     "output_type": "stream",
     "text": [
      "the product in a inventory are\n",
      " chocalte\n"
     ]
    }
   ],
   "source": [
    "obj_cla.display_product()"
   ]
  },
  {
   "cell_type": "code",
   "execution_count": 100,
   "id": "050156c5-98fa-4c3f-ab69-d27f464c3291",
   "metadata": {},
   "outputs": [
    {
     "name": "stdout",
     "output_type": "stream",
     "text": [
      " ,chips \n",
      "product add to our inventory\n"
     ]
    }
   ],
   "source": [
    "obj_cla.product_to_inventory(' ,chips')"
   ]
  },
  {
   "cell_type": "code",
   "execution_count": 101,
   "id": "18fac2bf-b30c-4080-97fa-39b759f2b119",
   "metadata": {},
   "outputs": [
    {
     "name": "stdout",
     "output_type": "stream",
     "text": [
      " ,banana chip \n",
      "product add to our inventory\n"
     ]
    }
   ],
   "source": [
    "obj_cla.product_to_inventory(' ,banana chip')"
   ]
  },
  {
   "cell_type": "code",
   "execution_count": 102,
   "id": "4e6a9473-b9f8-480b-b128-45c7397afe11",
   "metadata": {},
   "outputs": [
    {
     "name": "stdout",
     "output_type": "stream",
     "text": [
      "product quality updated\n"
     ]
    }
   ],
   "source": [
    "obj_cla.update_product_quality()"
   ]
  },
  {
   "cell_type": "code",
   "execution_count": 103,
   "id": "bcf08e4a-bfb6-47e3-ab4b-b5b2e70137ce",
   "metadata": {},
   "outputs": [
    {
     "name": "stdout",
     "output_type": "stream",
     "text": [
      "the product in a inventory are\n",
      " chocalte ,chips ,banana chip\n"
     ]
    }
   ],
   "source": [
    "obj_cla.display_product()"
   ]
  },
  {
   "cell_type": "code",
   "execution_count": 140,
   "id": "57aa9175-cd91-49d0-a0b6-a9e891b7ebc1",
   "metadata": {},
   "outputs": [],
   "source": [
    "# Problem 6: Shape Calculation Create a class representing a shape with attributes like length, width, and height. Implement methods to calculate the area and perimeter of the shape.\n",
    "class Shape:\n",
    "    def __init__(self, length, width, height):\n",
    "        self.length = length\n",
    "        self.width = width\n",
    "        self.height = height\n",
    "\n",
    "class Rectangle(Shape):\n",
    "    def calculate_area(self):\n",
    "        print('area',self.length * self.width)\n",
    "\n",
    "    def calculate_perimeter(self):\n",
    "        print('perimeter', 2 * (self.length + self.width))\n",
    "\n",
    "\n",
    "class Triangle(Shape):\n",
    "    def calculate_area(self):\n",
    "        s = (self.length + self.width + self.height) / 2\n",
    "        print('area of ',(s * (s - self.length) * (s - self.width) * (s - self.height)) ** 0.5)\n",
    "\n",
    "    def calculate_perimeter(self):\n",
    "        print('perimeter',self.length + self.width + self.height)\n",
    "\n"
   ]
  },
  {
   "cell_type": "code",
   "execution_count": 141,
   "id": "1889a407-fc09-4ec2-86de-af9f165e47ba",
   "metadata": {},
   "outputs": [],
   "source": [
    "class_rectangle=Rectangle(11,12,0)"
   ]
  },
  {
   "cell_type": "code",
   "execution_count": 142,
   "id": "270ec4c6-fa0a-4647-a448-ea54a31ccaea",
   "metadata": {},
   "outputs": [
    {
     "name": "stdout",
     "output_type": "stream",
     "text": [
      "area 132\n"
     ]
    }
   ],
   "source": [
    "class_rectangle.calculate_area()"
   ]
  },
  {
   "cell_type": "code",
   "execution_count": 143,
   "id": "dbf1b56b-48ca-49f2-9556-ee7bf7e605cb",
   "metadata": {},
   "outputs": [
    {
     "name": "stdout",
     "output_type": "stream",
     "text": [
      "perimeter 46\n"
     ]
    }
   ],
   "source": [
    "class_rectangle.calculate_perimeter()"
   ]
  },
  {
   "cell_type": "code",
   "execution_count": 146,
   "id": "1e28df42-d1fc-4141-9bba-0224b82c7846",
   "metadata": {},
   "outputs": [],
   "source": [
    "class_Triangle=Triangle(12,3,0)\n"
   ]
  },
  {
   "cell_type": "code",
   "execution_count": 148,
   "id": "e5d61ea0-a346-4dc6-80ca-d9c906b67b46",
   "metadata": {},
   "outputs": [
    {
     "name": "stdout",
     "output_type": "stream",
     "text": [
      "perimeter 15\n"
     ]
    }
   ],
   "source": [
    "class_Triangle.calculate_perimeter()"
   ]
  },
  {
   "cell_type": "code",
   "execution_count": 16,
   "id": "94fe5d78-e558-4e60-a99b-bdb446a40cb4",
   "metadata": {},
   "outputs": [],
   "source": [
    "# Problem 7: Student Management Create a class representing a student with attributes like student ID, name, and grades. Implement methods to calculate the average grade and display student details.\n",
    "class student:\n",
    "    def __init__(self,student_id,name,grade):\n",
    "        self.student_id=student_id\n",
    "        self.name=name\n",
    "        self.grade=grade\n",
    "\n",
    "class average_class(student):\n",
    "    def average(self):\n",
    "        total_grades = sum(self.grade)\n",
    "        print( total_grades / len(self.grade))\n",
    "class display(student):\n",
    "    def student_display(self):\n",
    "        print('The name of student is',self.name)\n",
    "        print('The student id is',self.student_id)\n",
    "        print('Grade is ',self.grade)"
   ]
  },
  {
   "cell_type": "code",
   "execution_count": 17,
   "id": "f30bb214-5d58-4d83-a859-ab9c6e8f3db3",
   "metadata": {},
   "outputs": [],
   "source": [
    "obh_class=average_class('AD21053','kunal',[98,67,76,68,76,76])"
   ]
  },
  {
   "cell_type": "code",
   "execution_count": 18,
   "id": "56c042c0-434d-43fc-87a2-0835b3bde1d8",
   "metadata": {},
   "outputs": [
    {
     "name": "stdout",
     "output_type": "stream",
     "text": [
      "76.83333333333333\n"
     ]
    }
   ],
   "source": [
    "obh_class.average()"
   ]
  },
  {
   "cell_type": "code",
   "execution_count": 19,
   "id": "63494f38-fbde-40a4-971a-ef05aa83fca7",
   "metadata": {},
   "outputs": [],
   "source": [
    "obh_class=display('AD21053','kunal',[98,67,76,68,76,76])"
   ]
  },
  {
   "cell_type": "code",
   "execution_count": 20,
   "id": "27e32504-118a-46da-a4c6-77da6ebf5254",
   "metadata": {},
   "outputs": [
    {
     "name": "stdout",
     "output_type": "stream",
     "text": [
      "The name of student is kunal\n",
      "The student id is AD21053\n",
      "Grade is  [98, 67, 76, 68, 76, 76]\n"
     ]
    }
   ],
   "source": [
    "obh_class.student_display()"
   ]
  },
  {
   "cell_type": "code",
   "execution_count": 2,
   "id": "6257f875-73ed-47bf-a1c1-7173b29844b5",
   "metadata": {},
   "outputs": [],
   "source": [
    "# Problem 8: Email Management Create a class representing an email with attributes like sender, recipient, and subject. Implement methods to send an email and display email details.\n",
    "class Email_class:\n",
    "    \n",
    "    def __init__(self, sender,recipient,subject,message):\n",
    "        self.sender=sender\n",
    "        self.recipient=recipient\n",
    "        self.subject=subject\n",
    "        self.message=message\n",
    "        \n",
    "class send_email(Email_class):\n",
    "    \n",
    "    def send_ema(self):\n",
    "        print(f\"Email sent from {self.sender} to {self.recipient}\")\n",
    "    \n",
    "    def email_details(self):\n",
    "        print(\"Email Details:\")\n",
    "        print(f\"Sender: {self.sender}\")\n",
    "        print(f\"Recipient: {self.recipient}\")\n",
    "        print(f\"Subject: {self.subject}\")\n",
    "        print(\"Message:\")\n",
    "        print(self.message)\n",
    "        \n",
    "\n"
   ]
  },
  {
   "cell_type": "code",
   "execution_count": 3,
   "id": "8c5479f9-43ed-4cc2-bb93-a9a355acba29",
   "metadata": {},
   "outputs": [],
   "source": [
    "obj=send_email('kunal@gmail.com','smartbo@gmail.com','Add Ceh Course to Pw skill','Please add CEH course to pw skill add it')"
   ]
  },
  {
   "cell_type": "code",
   "execution_count": 4,
   "id": "491ae957-5d65-441b-91b6-5e380179f1d0",
   "metadata": {},
   "outputs": [
    {
     "name": "stdout",
     "output_type": "stream",
     "text": [
      "Email sent from kunal@gmail.com to smartbo@gmail.com\n"
     ]
    }
   ],
   "source": [
    "obj.send_ema()"
   ]
  },
  {
   "cell_type": "code",
   "execution_count": 6,
   "id": "9aeab051-3492-4d0d-8328-275c53a0cb85",
   "metadata": {},
   "outputs": [
    {
     "name": "stdout",
     "output_type": "stream",
     "text": [
      "Email Details:\n",
      "Sender: kunal@gmail.com\n",
      "Recipient: smartbo@gmail.com\n",
      "Subject: Add Ceh Course to Pw skill\n",
      "Message:\n",
      "Please add CEH course to pw skill add it\n"
     ]
    }
   ],
   "source": [
    "obj.email_details()"
   ]
  },
  {
   "cell_type": "code",
   "execution_count": 56,
   "id": "7d87ca95-ab47-49bd-89c1-50596bdc6a36",
   "metadata": {},
   "outputs": [],
   "source": [
    "# Problem 9: Social Media Profile Create a class representing a social media profile with attributes like username and posts. Implement methods to add posts, display posts, and search for posts by keyword.\n",
    "class Social_media:\n",
    "    def __init__(self,username):\n",
    "        self.username=username\n",
    "        self.post=[]\n",
    "\n",
    "class post(Social_media):\n",
    "        def add_post(self, post):\n",
    "            self.post.append(post)\n",
    "        \n",
    "        def display_posts(self):\n",
    "            if not self.post:\n",
    "                print('No posts found for user',self.username)\n",
    "            else:\n",
    "                print('Posts for user',self.username)\n",
    "            for post in self.post:\n",
    "                print(post)\n",
    "        def search_posts_by_keyword(self, keyword):\n",
    "            matching_posts = [post for post in self.post if keyword.lower() in post.lower()]\n",
    "            if not matching_posts:\n",
    "                print('No posts found containing the keyword ',keyword)\n",
    "            else:\n",
    "                print('Posts containing the keyword ',keyword)\n",
    "            for post in matching_posts:\n",
    "                print(post)"
   ]
  },
  {
   "cell_type": "code",
   "execution_count": 57,
   "id": "04bcab21-2059-4890-8c3f-c09a818a4363",
   "metadata": {},
   "outputs": [],
   "source": [
    "obj_ob=post('kunal_017')"
   ]
  },
  {
   "cell_type": "code",
   "execution_count": 58,
   "id": "273e0786-3760-4c78-8509-06b18ea33e94",
   "metadata": {},
   "outputs": [],
   "source": [
    "obj_ob.add_post(\"Having a great day at the beach\")"
   ]
  },
  {
   "cell_type": "code",
   "execution_count": 59,
   "id": "c6a966f0-bc48-40d5-b2d3-9535f4b999c4",
   "metadata": {},
   "outputs": [],
   "source": [
    "obj_ob.add_post('Great day with virat and abd')"
   ]
  },
  {
   "cell_type": "code",
   "execution_count": 60,
   "id": "d9b75cee-95da-404b-a1b8-63f4e667602a",
   "metadata": {},
   "outputs": [
    {
     "name": "stdout",
     "output_type": "stream",
     "text": [
      "Posts for user kunal_017\n",
      "Having a great day at the beach\n",
      "Great day with virat and abd\n"
     ]
    }
   ],
   "source": [
    "obj_ob.display_posts()"
   ]
  },
  {
   "cell_type": "code",
   "execution_count": 61,
   "id": "d6486879-0925-46ad-906a-18d7ec831c9e",
   "metadata": {},
   "outputs": [
    {
     "name": "stdout",
     "output_type": "stream",
     "text": [
      "Posts containing the keyword  Having\n",
      "Having a great day at the beach\n"
     ]
    }
   ],
   "source": [
    "obj_ob.search_posts_by_keyword('Having')"
   ]
  },
  {
   "cell_type": "code",
   "execution_count": 29,
   "id": "943dbf3b-9fd8-4ffc-9309-064dc8050e77",
   "metadata": {},
   "outputs": [],
   "source": [
    "# Problem 10: ToDo List Create a class representing a ToDo list with attributes like tasks and due dates. Implement methods to add tasks, mark tasks as completed, and display pending tasks\n",
    "class Todo_list:\n",
    "    def __init__(self,due_date):\n",
    "        self.tasks={}\n",
    "        self.due_date=due_date\n",
    "\n",
    "class Task_method(Todo_list):\n",
    "    def add_task(self,task,due_date):\n",
    "        self.tasks[task] = due_date\n",
    "        print('the',task,'add Succesfull to To_do_list')\n",
    "    def mark_task(self,task):\n",
    "        if task in self.tasks:\n",
    "            del self.tasks[task]\n",
    "        else:\n",
    "            print('task',task,'not found ina task list')\n",
    "        \n",
    "    def display(self):\n",
    "        if not self.tasks:\n",
    "            print(\"No pending tasks.\")\n",
    "        else:\n",
    "            print(\"Pending tasks:\")\n",
    "            for task, due_date in self.tasks.items():\n",
    "                print('Task:',task,' Due Date:',due_date)\n",
    "        "
   ]
  },
  {
   "cell_type": "code",
   "execution_count": 30,
   "id": "d1751c5a-684d-4c5f-b4de-53c00bcfcbfa",
   "metadata": {},
   "outputs": [],
   "source": [
    "obj_Task=Task_method(14-10-23)"
   ]
  },
  {
   "cell_type": "code",
   "execution_count": 31,
   "id": "678d2039-fbe7-4dfc-9e92-5dde4a6cd10a",
   "metadata": {},
   "outputs": [
    {
     "name": "stdout",
     "output_type": "stream",
     "text": [
      "the Gym add Succesfull to To_do_list\n"
     ]
    }
   ],
   "source": [
    "obj_Task.add_task('Gym',12-10-23)"
   ]
  },
  {
   "cell_type": "code",
   "execution_count": 32,
   "id": "51123738-8936-43f2-9f84-94d6ce917405",
   "metadata": {},
   "outputs": [
    {
     "name": "stdout",
     "output_type": "stream",
     "text": [
      "the Paper prepration add Succesfull to To_do_list\n"
     ]
    }
   ],
   "source": [
    "obj_Task.add_task('Paper prepration',15-10-23)"
   ]
  },
  {
   "cell_type": "code",
   "execution_count": 35,
   "id": "b5861168-fb0d-4913-b8d3-ac3b9ccc1d05",
   "metadata": {},
   "outputs": [
    {
     "name": "stdout",
     "output_type": "stream",
     "text": [
      "task Gym not found ina task list\n"
     ]
    }
   ],
   "source": [
    "obj_Task.mark_task('Gym')"
   ]
  },
  {
   "cell_type": "code",
   "execution_count": 36,
   "id": "b0bca8c9-f91d-4650-b1d9-79f6929121e2",
   "metadata": {},
   "outputs": [
    {
     "name": "stdout",
     "output_type": "stream",
     "text": [
      "the Complete project report add Succesfull to To_do_list\n",
      "the Buy groceries add Succesfull to To_do_list\n",
      "the Prepare presentation add Succesfull to To_do_list\n"
     ]
    }
   ],
   "source": [
    "obj_Task.add_task(\"Complete project report\", \"2023-10-15\")\n",
    "obj_Task.add_task(\"Buy groceries\", \"2023-10-12\")\n",
    "obj_Task.add_task(\"Prepare presentation\", \"2023-10-20\")"
   ]
  },
  {
   "cell_type": "code",
   "execution_count": 38,
   "id": "3ae4cc68-74d9-4f47-aec1-06cddf7dfcd4",
   "metadata": {},
   "outputs": [
    {
     "name": "stdout",
     "output_type": "stream",
     "text": [
      "Pending tasks:\n",
      "Task: Paper prepration  Due Date: -18\n",
      "Task: Complete project report  Due Date: 2023-10-15\n",
      "Task: Buy groceries  Due Date: 2023-10-12\n",
      "Task: Prepare presentation  Due Date: 2023-10-20\n"
     ]
    }
   ],
   "source": [
    "obj_Task.display()"
   ]
  },
  {
   "cell_type": "code",
   "execution_count": 40,
   "id": "f0940242-e5cd-4aaf-919c-b703c8d94956",
   "metadata": {},
   "outputs": [],
   "source": [
    "obj_Task.mark_task(\"Buy groceries\")"
   ]
  },
  {
   "cell_type": "code",
   "execution_count": 41,
   "id": "b3dc851d-a76d-4731-a2e9-5256217e54d8",
   "metadata": {},
   "outputs": [
    {
     "name": "stdout",
     "output_type": "stream",
     "text": [
      "Pending tasks:\n",
      "Task: Paper prepration  Due Date: -18\n",
      "Task: Complete project report  Due Date: 2023-10-15\n",
      "Task: Prepare presentation  Due Date: 2023-10-20\n"
     ]
    }
   ],
   "source": [
    "obj_Task.display()\n"
   ]
  },
  {
   "cell_type": "code",
   "execution_count": null,
   "id": "17cac234-2e47-4597-8fb1-5a5ff22eb894",
   "metadata": {},
   "outputs": [],
   "source": []
  }
 ],
 "metadata": {
  "kernelspec": {
   "display_name": "Python 3 (ipykernel)",
   "language": "python",
   "name": "python3"
  },
  "language_info": {
   "codemirror_mode": {
    "name": "ipython",
    "version": 3
   },
   "file_extension": ".py",
   "mimetype": "text/x-python",
   "name": "python",
   "nbconvert_exporter": "python",
   "pygments_lexer": "ipython3",
   "version": "3.10.8"
  }
 },
 "nbformat": 4,
 "nbformat_minor": 5
}
